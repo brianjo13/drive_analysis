{
 "cells": [
  {
   "cell_type": "code",
   "execution_count": 1,
   "id": "aa37b0c5",
   "metadata": {},
   "outputs": [],
   "source": [
    "import matplotlib.pyplot as plt\n",
    "%matplotlib widget\n",
    "\n",
    "import pandas as pd\n",
    "from scipy import integrate"
   ]
  },
  {
   "cell_type": "code",
   "execution_count": 33,
   "id": "6d42a9d5",
   "metadata": {},
   "outputs": [
    {
     "name": "stdout",
     "output_type": "stream",
     "text": [
      "         index         time  lap    INS_ax     INS_vx\n",
      "0        22701    57.262282    1 -2.408677  15.450418\n",
      "1        22702    57.265080    1 -2.493580  15.443852\n",
      "2        22703    57.267213    1 -2.699690  15.436881\n",
      "3        22704    57.270267    1 -2.844433  15.429581\n",
      "4        22705    57.272274    1 -2.928234  15.422129\n",
      "...        ...          ...  ...       ...        ...\n",
      "750965  773666  2140.853208   67 -1.657653  17.332680\n",
      "750966  773667  2140.856103   67 -1.565519  17.329159\n",
      "750967  773668  2140.858186   67 -1.584281  17.325146\n",
      "750968  773669  2140.861231   67 -1.615229  17.321484\n",
      "750969  773670  2140.863265   67 -1.451486  17.318304\n",
      "\n",
      "[750970 rows x 5 columns]\n"
     ]
    }
   ],
   "source": [
    "df = pd.read_csv(\"ax_test_drive_220801.csv\", index_col=0)\n",
    "df.lap = df.lap.astype(int)\n",
    "number_of_laps = df.lap.max()\n",
    "\n",
    "df = df.reset_index()\n",
    "\n",
    "print(df)"
   ]
  },
  {
   "cell_type": "code",
   "execution_count": 34,
   "id": "06532549",
   "metadata": {},
   "outputs": [
    {
     "name": "stdout",
     "output_type": "stream",
     "text": [
      "         index       time  lap    INS_ax     INS_vx\n",
      "0        22701   0.000000    1 -2.408677  15.450418\n",
      "1        22702   0.002798    1 -2.493580  15.443852\n",
      "2        22703   0.004931    1 -2.699690  15.436881\n",
      "3        22704   0.007985    1 -2.844433  15.429581\n",
      "4        22705   0.009992    1 -2.928234  15.422129\n",
      "...        ...        ...  ...       ...        ...\n",
      "750965  773666  29.194823   67 -1.657653  17.332680\n",
      "750966  773667  29.197718   67 -1.565519  17.329159\n",
      "750967  773668  29.199801   67 -1.584281  17.325146\n",
      "750968  773669  29.202846   67 -1.615229  17.321484\n",
      "750969  773670  29.204880   67 -1.451486  17.318304\n",
      "\n",
      "[750970 rows x 5 columns]\n"
     ]
    }
   ],
   "source": [
    "df[\"time\"] = df.groupby(\"lap\", group_keys=False).time.apply(lambda x: x - x.min())\n",
    "print(df)"
   ]
  },
  {
   "cell_type": "code",
   "execution_count": 21,
   "id": "660900c6",
   "metadata": {},
   "outputs": [
    {
     "name": "stdout",
     "output_type": "stream",
     "text": [
      "         index       time  lap    INS_ax     INS_vx\n",
      "0        22701   0.000000    1 -2.408677  15.450418\n",
      "1        22702   0.002798    1 -2.493580  15.443852\n",
      "2        22703   0.004931    1 -2.699690  15.436881\n",
      "3        22704   0.007985    1 -2.844433  15.429581\n",
      "4        22705   0.009992    1 -2.928234  15.422129\n",
      "...        ...        ...  ...       ...        ...\n",
      "750965  773666  29.194823   67 -1.657653  17.332680\n",
      "750966  773667  29.197718   67 -1.565519  17.329159\n",
      "750967  773668  29.199801   67 -1.584281  17.325146\n",
      "750968  773669  29.202846   67 -1.615229  17.321484\n",
      "750969  773670  29.204880   67 -1.451486  17.318304\n",
      "\n",
      "[750970 rows x 5 columns]\n"
     ]
    }
   ],
   "source": [
    "pivoted_df = df.copy()\n",
    "\n",
    "for i in range(1, number_of_laps + 1):\n",
    "    start_of_lap = pivoted_df.loc[pivoted_df.lap == i, \"time\"].min()\n",
    "    pivoted_df.loc[pivoted_df.lap == i, \"time\"] -= start_of_lap\n",
    "\n",
    "print(pivoted_df)"
   ]
  },
  {
   "cell_type": "code",
   "execution_count": 9,
   "id": "0a0a6ab9",
   "metadata": {},
   "outputs": [],
   "source": [
    "pivoted_df.lap = pivoted_df.lap.apply(lambda x: \"lap_\" + str(int(x)))"
   ]
  },
  {
   "cell_type": "code",
   "execution_count": 10,
   "id": "42ef2b7d",
   "metadata": {},
   "outputs": [
    {
     "name": "stdout",
     "output_type": "stream",
     "text": [
      "lap            lap_1     lap_10    lap_11    lap_12    lap_13     lap_14  \\\n",
      "time                                                                       \n",
      "0.000000   -2.408677 -13.100289 -2.989287 -6.470455 -9.123634 -10.374823   \n",
      "0.001366         NaN        NaN       NaN       NaN       NaN        NaN   \n",
      "0.001943         NaN        NaN       NaN       NaN       NaN        NaN   \n",
      "0.001992         NaN        NaN       NaN       NaN       NaN        NaN   \n",
      "0.002007         NaN        NaN       NaN       NaN       NaN        NaN   \n",
      "...              ...        ...       ...       ...       ...        ...   \n",
      "209.404548       NaN        NaN       NaN       NaN       NaN        NaN   \n",
      "209.406676       NaN        NaN       NaN       NaN       NaN        NaN   \n",
      "209.409592       NaN        NaN       NaN       NaN       NaN        NaN   \n",
      "209.411748       NaN        NaN       NaN       NaN       NaN        NaN   \n",
      "209.414671       NaN        NaN       NaN       NaN       NaN        NaN   \n",
      "\n",
      "lap            lap_15     lap_16     lap_17     lap_18  ...    lap_61  \\\n",
      "time                                                    ...             \n",
      "0.000000   -13.394196 -11.715001 -12.593952 -14.012317  ... -2.127126   \n",
      "0.001366          NaN        NaN        NaN        NaN  ...       NaN   \n",
      "0.001943          NaN -11.586342        NaN        NaN  ...       NaN   \n",
      "0.001992          NaN        NaN        NaN        NaN  ...       NaN   \n",
      "0.002007          NaN        NaN        NaN        NaN  ...       NaN   \n",
      "...               ...        ...        ...        ...  ...       ...   \n",
      "209.404548        NaN        NaN        NaN        NaN  ...       NaN   \n",
      "209.406676        NaN        NaN        NaN        NaN  ...       NaN   \n",
      "209.409592        NaN        NaN        NaN        NaN  ...       NaN   \n",
      "209.411748        NaN        NaN        NaN        NaN  ...       NaN   \n",
      "209.414671        NaN        NaN        NaN        NaN  ...       NaN   \n",
      "\n",
      "lap           lap_62    lap_63    lap_64    lap_65    lap_66    lap_67  \\\n",
      "time                                                                     \n",
      "0.000000   -1.704864 -2.133245 -2.830113 -2.327572 -2.078168 -1.628094   \n",
      "0.001366         NaN       NaN       NaN       NaN       NaN       NaN   \n",
      "0.001943         NaN       NaN       NaN       NaN       NaN       NaN   \n",
      "0.001992         NaN       NaN       NaN       NaN       NaN       NaN   \n",
      "0.002007         NaN       NaN       NaN       NaN       NaN       NaN   \n",
      "...              ...       ...       ...       ...       ...       ...   \n",
      "209.404548       NaN       NaN       NaN       NaN       NaN       NaN   \n",
      "209.406676       NaN       NaN       NaN       NaN       NaN       NaN   \n",
      "209.409592       NaN       NaN       NaN       NaN       NaN       NaN   \n",
      "209.411748       NaN       NaN       NaN       NaN       NaN       NaN   \n",
      "209.414671       NaN       NaN       NaN       NaN       NaN       NaN   \n",
      "\n",
      "lap            lap_7     lap_8     lap_9  \n",
      "time                                      \n",
      "0.000000   -7.300297 -13.88213 -1.934907  \n",
      "0.001366         NaN       NaN       NaN  \n",
      "0.001943         NaN       NaN       NaN  \n",
      "0.001992         NaN       NaN       NaN  \n",
      "0.002007         NaN       NaN       NaN  \n",
      "...              ...       ...       ...  \n",
      "209.404548       NaN       NaN       NaN  \n",
      "209.406676       NaN       NaN       NaN  \n",
      "209.409592       NaN       NaN       NaN  \n",
      "209.411748       NaN       NaN       NaN  \n",
      "209.414671       NaN       NaN       NaN  \n",
      "\n",
      "[736581 rows x 67 columns]\n"
     ]
    }
   ],
   "source": [
    "pivoted_df = pivoted_df.pivot(index=\"time\", columns=\"lap\",  values=\"INS_ax\")\n",
    "print(pivoted_df)"
   ]
  },
  {
   "cell_type": "code",
   "execution_count": 11,
   "id": "d8ef1737",
   "metadata": {},
   "outputs": [
    {
     "data": {
      "application/vnd.jupyter.widget-view+json": {
       "model_id": "a41674ae80554780add3e4eaab60583d",
       "version_major": 2,
       "version_minor": 0
      },
      "image/png": "[encoded data removed]",
      "text/html": [
       "\n",
       "            <div style=\"display: inline-block;\">\n",
       "                <div class=\"jupyter-widgets widget-label\" style=\"text-align: center;\">\n",
       "                    Figure\n",
       "                </div>\n",
       "                <img src='data:image/png;base64,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' width=640.0/>\n",
       "            </div>\n",
       "        "
      ],
      "text/plain": [
       "Canvas(toolbar=Toolbar(toolitems=[('Home', 'Reset original view', 'home', 'home'), ('Back', 'Back to previous …"
      ]
     },
     "metadata": {},
     "output_type": "display_data"
    }
   ],
   "source": [
    "fig, ax = plt.subplots()\n",
    "\n",
    "for lap in pivoted_df.columns:\n",
    "    ax.plot(pivoted_df[lap].dropna())"
   ]
  },
  {
   "cell_type": "code",
   "execution_count": 41,
   "id": "8797b51d",
   "metadata": {},
   "outputs": [
    {
     "name": "stdout",
     "output_type": "stream",
     "text": [
      "         index       time  lap    INS_ax     INS_vx    distance\n",
      "0        22701   0.000000    1 -2.408677  15.450418    0.000000\n",
      "1        22702   0.002798    1 -2.493580  15.443852    0.043221\n",
      "2        22703   0.004931    1 -2.699690  15.436881    0.076155\n",
      "3        22704   0.007985    1 -2.844433  15.429581    0.123288\n",
      "4        22705   0.009992    1 -2.928234  15.422129    0.154248\n",
      "...        ...        ...  ...       ...        ...         ...\n",
      "750965  773666  29.194823   67 -1.657653  17.332680  333.810474\n",
      "750966  773667  29.197718   67 -1.565519  17.329159  333.860647\n",
      "750967  773668  29.199801   67 -1.584281  17.325146  333.896740\n",
      "750968  773669  29.202846   67 -1.615229  17.321484  333.949489\n",
      "750969  773670  29.204880   67 -1.451486  17.318304  333.984718\n",
      "\n",
      "[750970 rows x 6 columns]\n"
     ]
    }
   ],
   "source": [
    "dist_df = df.copy()\n",
    "\n",
    "def calculate_distance(DF):\n",
    "    DF[\"distance\"] = integrate.cumulative_trapezoid(DF.INS_vx, x=DF.time, initial=0)\n",
    "    return DF\n",
    "\n",
    "dist_df = dist_df.groupby(\"lap\", group_keys=False).apply(calculate_distance)\n",
    "\n",
    "# dist_df[\"distance\"] = 0\n",
    "# for i in range(1, len(dist_df)):\n",
    "#     # S = S0 + v0 * t + 0.5 * a * t**2\n",
    "#     dist_df.loc[i, \"distance\"] = dist_df.loc[i - 1, \"distance\"] + dist_df.loc[i - 1, \"INS_vx\"] * (dist_df.loc[i, \"time\"] - dist_df.loc[i - 1, \"time\"]) + 0.5 * dist_df.loc[i - 1, \"INS_ax\"] * (dist_df.loc[i, \"time\"] - dist_df.loc[i - 1, \"time\"])**2\n",
    "\n",
    "print(dist_df)"
   ]
  },
  {
   "cell_type": "code",
   "execution_count": 47,
   "id": "47ccf1f6",
   "metadata": {},
   "outputs": [
    {
     "name": "stdout",
     "output_type": "stream",
     "text": [
      "     lap   lap_time  lap_distance\n",
      "lap                              \n",
      "1      1  31.922681    329.462201\n",
      "2      2  28.479854    329.260411\n",
      "3      3  28.219763    329.154221\n",
      "4      4  27.451424    329.546391\n",
      "5      5  26.861127    326.557547\n",
      "..   ...        ...           ...\n",
      "63    63  27.899303    333.613744\n",
      "64    64  28.046920    333.232055\n",
      "65    65  27.441223    328.387349\n",
      "66    66  27.923722    332.775365\n",
      "67    67  29.204880    333.984718\n",
      "\n",
      "[67 rows x 3 columns]\n"
     ]
    }
   ],
   "source": [
    "lap_metadata = {\n",
    "    \"lap\": None,\n",
    "    \"lap_time\": None,\n",
    "    \"lap_distance\": None\n",
    "}\n",
    "\n",
    "lap_metadata[\"lap\"] = dist_df.lap.unique()\n",
    "lap_metadata[\"lap_time\"] = dist_df.groupby(\"lap\").time.apply(lambda x: x.max())\n",
    "lap_metadata[\"lap_distance\"] = dist_df.groupby(\"lap\").distance.apply(lambda x: x.max())\n",
    "\n",
    "lap_metadata_df = pd.DataFrame(lap_metadata)\n",
    "\n",
    "print(lap_metadata_df)"
   ]
  },
  {
   "cell_type": "code",
   "execution_count": 48,
   "id": "065843e0",
   "metadata": {},
   "outputs": [
    {
     "name": "stdout",
     "output_type": "stream",
     "text": [
      "     lap   lap_time  lap_distance\n",
      "lap                              \n",
      "1      1  31.922681    329.462201\n",
      "2      2  28.479854    329.260411\n",
      "3      3  28.219763    329.154221\n",
      "4      4  27.451424    329.546391\n",
      "5      5  26.861127    326.557547\n",
      "..   ...        ...           ...\n",
      "63    63  27.899303    333.613744\n",
      "64    64  28.046920    333.232055\n",
      "65    65  27.441223    328.387349\n",
      "66    66  27.923722    332.775365\n",
      "67    67  29.204880    333.984718\n",
      "\n",
      "[64 rows x 3 columns]\n"
     ]
    }
   ],
   "source": [
    "median_lap_time = lap_metadata_df.lap_time.median()\n",
    "lap_metadata_df = lap_metadata_df[lap_metadata_df.lap_time <= median_lap_time + 5]\n",
    "\n",
    "print(lap_metadata_df)"
   ]
  },
  {
   "cell_type": "code",
   "execution_count": 49,
   "id": "a6ad682d",
   "metadata": {},
   "outputs": [
    {
     "name": "stdout",
     "output_type": "stream",
     "text": [
      "     lap  lap_time  lap_distance\n",
      "lap                             \n",
      "32    32  25.30475    314.639728\n"
     ]
    }
   ],
   "source": [
    "fastest_lap = lap_metadata_df[lap_metadata_df.lap_time == lap_metadata_df.lap_time.min()]\n",
    "print(fastest_lap)"
   ]
  },
  {
   "cell_type": "code",
   "execution_count": 105,
   "id": "72324924",
   "metadata": {},
   "outputs": [
    {
     "name": "stdout",
     "output_type": "stream",
     "text": [
      "           time  lap     INS_ax     INS_vx    distance  max_brake\n",
      "0      0.000000   32 -13.081911  21.126032    0.000000        NaN\n",
      "1      0.003077   32 -13.340016  21.093187    0.064954 -13.340016\n",
      "2      0.005169   32 -12.978849  21.060982    0.109048        NaN\n",
      "3      0.007876   32 -12.370606  21.031164    0.166019        NaN\n",
      "4      0.010015   32 -12.300056  20.999290    0.210971        NaN\n",
      "...         ...  ...        ...        ...         ...        ...\n",
      "9165  25.294795   32 -12.824356  19.232635  314.448889        NaN\n",
      "9166  25.297533   32 -12.780292  19.200434  314.501504        NaN\n",
      "9167  25.299680   32 -12.705577  19.169090  314.542693        NaN\n",
      "9168  25.302481   32 -12.581600  19.137526  314.596342        NaN\n",
      "9169  25.304750   32 -12.753458  19.105316  314.639728        NaN\n",
      "\n",
      "[9170 rows x 6 columns]\n"
     ]
    }
   ],
   "source": [
    "fastest_lap_df = dist_df.loc[dist_df.lap == fastest_lap.lap.iloc[0]].reset_index().drop(columns=[\"level_0\", \"index\"])\n",
    "fastest_lap_df[\"max_brake\"] = fastest_lap_df.INS_ax[(fastest_lap_df.INS_ax < -9.81) & (fastest_lap_df.INS_ax.shift(1) > fastest_lap_df.INS_ax) & (fastest_lap_df.INS_ax.shift(-1) > fastest_lap_df.INS_ax)]\n",
    "\n",
    "print(fastest_lap_df)"
   ]
  },
  {
   "cell_type": "code",
   "execution_count": 106,
   "id": "7dc41f2e",
   "metadata": {},
   "outputs": [
    {
     "name": "stdout",
     "output_type": "stream",
     "text": [
      "           time  lap     INS_ax     INS_vx    distance  max_brake\n",
      "1      0.003077   32 -13.340016  21.093187    0.064954 -13.340016\n",
      "5      0.013051   32 -12.740980  20.967283    0.274676 -12.740980\n",
      "10     0.025234   32 -14.698838  20.833252    0.529432 -14.698838\n",
      "17     0.043015   32 -14.980358  20.582106    0.897634 -14.980358\n",
      "27     0.068158   32 -11.870021  20.280790    1.411168 -11.870021\n",
      "...         ...  ...        ...        ...         ...        ...\n",
      "9143  25.239504   32 -14.825336  19.966654  313.365444 -14.825336\n",
      "9148  25.252268   32 -14.460868  19.789648  313.619192 -14.460868\n",
      "9154  25.267476   32 -13.496964  19.590843  313.918618 -13.496964\n",
      "9158  25.277463   32 -13.516437  19.459299  314.113601 -13.516437\n",
      "9162  25.287463   32 -13.243645  19.329672  314.307529 -13.243645\n",
      "\n",
      "[125 rows x 6 columns]\n",
      "-12.122932914733887\n"
     ]
    }
   ],
   "source": [
    "fastest_lap_max_brake_df = fastest_lap_df.dropna()\n",
    "print(fastest_lap_max_brake_df)\n",
    "\n",
    "print(fastest_lap_max_brake_df.max_brake.mean())"
   ]
  },
  {
   "cell_type": "code",
   "execution_count": 107,
   "id": "f469f641",
   "metadata": {},
   "outputs": [
    {
     "name": "stdout",
     "output_type": "stream",
     "text": [
      "           time  lap     INS_ax     INS_vx    distance  max_brake\n",
      "0      0.000000   10 -13.100289  19.739105    0.000000        NaN\n",
      "1      0.002247   10 -13.464837  19.704674    0.044315 -13.464837\n",
      "2      0.005031   10 -13.348041  19.672709    0.099128        NaN\n",
      "3      0.007233   10 -13.165488  19.639107    0.142411        NaN\n",
      "4      0.010007   10 -13.606840  19.604929    0.196842 -13.606840\n",
      "...         ...  ...        ...        ...         ...        ...\n",
      "9670  27.068281   10  -2.024301  21.649305  324.269353        NaN\n",
      "9671  27.071119   10  -1.862750  21.644352  324.330787        NaN\n",
      "9672  27.073214   10  -2.100101  21.638756  324.376126        NaN\n",
      "9673  27.076176   10  -2.150073  21.633543  324.440212        NaN\n",
      "9674  27.078401   10  -2.545743  21.625984  324.488338        NaN\n",
      "\n",
      "[9675 rows x 6 columns]\n"
     ]
    }
   ],
   "source": [
    "lap10_df = dist_df.loc[dist_df.lap == 10].reset_index().drop(columns=[\"level_0\", \"index\"])\n",
    "lap10_df[\"max_brake\"] = lap10_df.INS_ax[(lap10_df.INS_ax < -9.81) & (lap10_df.INS_ax.shift(1) > lap10_df.INS_ax) & (lap10_df.INS_ax.shift(-1) > lap10_df.INS_ax)]\n",
    "\n",
    "print(lap10_df)"
   ]
  },
  {
   "cell_type": "code",
   "execution_count": 108,
   "id": "aa838441",
   "metadata": {},
   "outputs": [
    {
     "name": "stdout",
     "output_type": "stream",
     "text": [
      "           time  lap     INS_ax     INS_vx    distance  max_brake\n",
      "1      0.002247   10 -13.464837  19.704674    0.044315 -13.464837\n",
      "4      0.010007   10 -13.606840  19.604929    0.196842 -13.606840\n",
      "7      0.017219   10 -13.061753  19.510363    0.337901 -13.061753\n",
      "13     0.032299   10 -13.224895  19.319777    0.630746 -13.224895\n",
      "18     0.045250   10 -13.300190  19.161867    0.879935 -13.300190\n",
      "...         ...  ...        ...        ...         ...        ...\n",
      "7614  21.236204   10 -12.488630   8.764647  253.535707 -12.488630\n",
      "7617  21.243538   10 -10.507850   8.676291  253.599667 -10.507850\n",
      "7622  21.255609   10 -11.112099   8.543536  253.703601 -11.112099\n",
      "7639  21.298561   10 -10.658079   8.156224  254.062339 -10.658079\n",
      "7656  21.340905   10 -10.091475   7.799598  254.400487 -10.091475\n",
      "\n",
      "[100 rows x 6 columns]\n",
      "-12.863023529052734\n"
     ]
    }
   ],
   "source": [
    "lap10_max_brake_df = lap10_df.dropna()\n",
    "print(lap10_max_brake_df)\n",
    "\n",
    "print(lap10_max_brake_df.max_brake.mean())"
   ]
  },
  {
   "attachments": {},
   "cell_type": "markdown",
   "id": "0b727678",
   "metadata": {},
   "source": [
    "### Idé\n",
    "\n",
    "* Integrer for å få distanse på x-aksen\n",
    "* Finn den raskeste runden\n",
    "* Bruk den raskeste runden til å finne ut om sjåføren bremser og akselererer for sent eller for tidlig"
   ]
  }
 ],
 "metadata": {
  "kernelspec": {
   "display_name": "Python 3 (ipykernel)",
   "language": "python",
   "name": "python3"
  },
  "language_info": {
   "codemirror_mode": {
    "name": "ipython",
    "version": 3
   },
   "file_extension": ".py",
   "mimetype": "text/x-python",
   "name": "python",
   "nbconvert_exporter": "python",
   "pygments_lexer": "ipython3",
   "version": "3.10.9"
  }
 },
 "nbformat": 4,
 "nbformat_minor": 5
}
